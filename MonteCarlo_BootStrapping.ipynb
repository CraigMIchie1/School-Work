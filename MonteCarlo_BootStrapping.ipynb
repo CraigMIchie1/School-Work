{
 "cells": [
  {
   "cell_type": "markdown",
   "metadata": {},
   "source": [
    "<Center>\n",
    "  \n",
    "# Erasmus Mundus JMD Nuclear Physics  \n",
    "### Monte Carlo - BootStrapping Exercise Set  \n",
    "\n",
    "\n",
    "###### Craig Michie\n",
    "\n",
    "<Center>\n",
    "<hr>"
   ]
  },
  {
   "cell_type": "markdown",
   "metadata": {},
   "source": [
    "Firstly, Import all required packages"
   ]
  },
  {
   "cell_type": "code",
   "execution_count": 1,
   "metadata": {},
   "outputs": [],
   "source": [
    "%matplotlib inline\n",
    "import matplotlib.pyplot as plt\n",
    "import pandas as pd\n",
    "import numpy as np\n",
    "import scipy \n",
    "import random\n",
    "np.warnings.filterwarnings('ignore')\n",
    "from scipy import stats"
   ]
  },
  {
   "cell_type": "markdown",
   "metadata": {},
   "source": [
    "<hr>"
   ]
  },
  {
   "cell_type": "markdown",
   "metadata": {},
   "source": [
    "## Problem 1: Read or code directly ${(x_i\\pm \\sigma_i,y_i \\pm \\sigma_i)_{i=1}^N} $\n",
    " "
   ]
  },
  {
   "cell_type": "code",
   "execution_count": 2,
   "metadata": {},
   "outputs": [
    {
     "data": {
      "text/html": [
       "<div>\n",
       "<style scoped>\n",
       "    .dataframe tbody tr th:only-of-type {\n",
       "        vertical-align: middle;\n",
       "    }\n",
       "\n",
       "    .dataframe tbody tr th {\n",
       "        vertical-align: top;\n",
       "    }\n",
       "\n",
       "    .dataframe thead th {\n",
       "        text-align: right;\n",
       "    }\n",
       "</style>\n",
       "<table border=\"1\" class=\"dataframe\">\n",
       "  <thead>\n",
       "    <tr style=\"text-align: right;\">\n",
       "      <th></th>\n",
       "      <th>x</th>\n",
       "      <th>y</th>\n",
       "      <th>$\\sigma_x$</th>\n",
       "      <th>$\\sigma_y$</th>\n",
       "    </tr>\n",
       "  </thead>\n",
       "  <tbody>\n",
       "    <tr>\n",
       "      <td>0</td>\n",
       "      <td>0.50</td>\n",
       "      <td>2.40</td>\n",
       "      <td>0.02</td>\n",
       "      <td>0.6</td>\n",
       "    </tr>\n",
       "    <tr>\n",
       "      <td>1</td>\n",
       "      <td>0.90</td>\n",
       "      <td>3.10</td>\n",
       "      <td>0.09</td>\n",
       "      <td>1.8</td>\n",
       "    </tr>\n",
       "    <tr>\n",
       "      <td>2</td>\n",
       "      <td>1.50</td>\n",
       "      <td>4.70</td>\n",
       "      <td>0.15</td>\n",
       "      <td>1.5</td>\n",
       "    </tr>\n",
       "    <tr>\n",
       "      <td>3</td>\n",
       "      <td>1.80</td>\n",
       "      <td>4.90</td>\n",
       "      <td>0.18</td>\n",
       "      <td>0.6</td>\n",
       "    </tr>\n",
       "    <tr>\n",
       "      <td>4</td>\n",
       "      <td>2.65</td>\n",
       "      <td>6.30</td>\n",
       "      <td>0.45</td>\n",
       "      <td>3.0</td>\n",
       "    </tr>\n",
       "    <tr>\n",
       "      <td>5</td>\n",
       "      <td>3.00</td>\n",
       "      <td>8.05</td>\n",
       "      <td>0.05</td>\n",
       "      <td>0.2</td>\n",
       "    </tr>\n",
       "    <tr>\n",
       "      <td>6</td>\n",
       "      <td>3.45</td>\n",
       "      <td>8.80</td>\n",
       "      <td>0.07</td>\n",
       "      <td>0.4</td>\n",
       "    </tr>\n",
       "    <tr>\n",
       "      <td>7</td>\n",
       "      <td>4.10</td>\n",
       "      <td>11.50</td>\n",
       "      <td>0.25</td>\n",
       "      <td>3.2</td>\n",
       "    </tr>\n",
       "    <tr>\n",
       "      <td>8</td>\n",
       "      <td>4.65</td>\n",
       "      <td>11.20</td>\n",
       "      <td>0.15</td>\n",
       "      <td>0.8</td>\n",
       "    </tr>\n",
       "    <tr>\n",
       "      <td>9</td>\n",
       "      <td>5.25</td>\n",
       "      <td>14.30</td>\n",
       "      <td>0.25</td>\n",
       "      <td>2.4</td>\n",
       "    </tr>\n",
       "  </tbody>\n",
       "</table>\n",
       "</div>"
      ],
      "text/plain": [
       "      x      y  $\\sigma_x$  $\\sigma_y$\n",
       "0  0.50   2.40        0.02         0.6\n",
       "1  0.90   3.10        0.09         1.8\n",
       "2  1.50   4.70        0.15         1.5\n",
       "3  1.80   4.90        0.18         0.6\n",
       "4  2.65   6.30        0.45         3.0\n",
       "5  3.00   8.05        0.05         0.2\n",
       "6  3.45   8.80        0.07         0.4\n",
       "7  4.10  11.50        0.25         3.2\n",
       "8  4.65  11.20        0.15         0.8\n",
       "9  5.25  14.30        0.25         2.4"
      ]
     },
     "execution_count": 2,
     "metadata": {},
     "output_type": "execute_result"
    }
   ],
   "source": [
    "d = {'x':[0.50,0.90,1.50,1.80,2.65,3.00,3.45,4.10,4.65,5.25],'y':[2.40,3.10,4.70,4.90,6.30,8.05,8.80,11.50,11.20,14.30],\n",
    "    '$\\sigma_x$':[0.02,0.09,0.15,0.18,0.45,0.05,0.07,0.25,0.15,0.25],'$\\sigma_y$':[0.60,1.80,1.50,0.60,3.00,0.20,0.40\n",
    "                                                                                       ,3.20,0.80,2.40]}\n",
    "fd = pd.DataFrame(data=d)\n",
    "fd"
   ]
  },
  {
   "cell_type": "code",
   "execution_count": 3,
   "metadata": {},
   "outputs": [
    {
     "data": {
      "image/png": "[encoded data removed]",
      "text/plain": [
       "<Figure size 432x288 with 1 Axes>"
      ]
     },
     "metadata": {
      "needs_background": "light"
     },
     "output_type": "display_data"
    }
   ],
   "source": [
    "plt.errorbar(fd['x'],fd['y'],fd['$\\sigma_x$'],fd['$\\sigma_y$'],ecolor = 'r')\n",
    "plt.grid(linestyle='dashed')\n",
    "plt.title('Graph of Data with their Error Bars')\n",
    "plt.show()"
   ]
  },
  {
   "cell_type": "markdown",
   "metadata": {},
   "source": [
    "<hr>"
   ]
  },
  {
   "cell_type": "markdown",
   "metadata": {},
   "source": [
    "## Problem 2: Obtain up to M = 1000 sets of datapoints $((x_i,y_i)_k)_{i=1,...,N}^{k=1,...,M}$ by resampling from your experimental data. Use the generator producing random numbers with Guassian Distribution"
   ]
  },
  {
   "cell_type": "code",
   "execution_count": 4,
   "metadata": {},
   "outputs": [],
   "source": [
    "def newpoint():\n",
    "    '''\n",
    "    To acquire a set of data points by resampling the data given to us we will use a loop to generate random values \n",
    "    inbetween the range of x and y.\n",
    "\n",
    "    To use np.random.normal (a guassian distribution) we want the mean and standard deviation \n",
    "    '''\n",
    "    xmean, xstd = np.mean(fd['x']), np.std(fd['x'])\n",
    "    ymean, ystd = np.mean(fd['y']), np.std(fd['y'])\n",
    "    points = []\n",
    "    pointss = []\n",
    "\n",
    "    for n in range(1000): #M = 1000 for datasets\n",
    "        points = []\n",
    "        for m in range(10): # N = 10 datapoints per data set\n",
    "            x = np.random.normal(xmean,xstd)\n",
    "            y = np.random.normal(ymean,ystd)\n",
    "            point = [x,y]\n",
    "            points.append(point)\n",
    "        pointss.append(points)\n",
    "    a = pointss\n",
    "    return a"
   ]
  },
  {
   "cell_type": "code",
   "execution_count": 5,
   "metadata": {},
   "outputs": [
    {
     "name": "stdout",
     "output_type": "stream",
     "text": [
      "[[3.8856731250207064, 16.904370048922644], [1.4091924431390388, 7.6580985989783095], [2.7884220960546866, 8.599227494229451], [3.266603795396893, -0.5218327239321088], [3.0696238431134777, 2.220809598563994], [2.5429703878128147, 8.277294797232111], [2.536813789562086, 14.494685853710747], [4.350854844130348, 12.61218607990789], [2.049781375103399, 9.862765760177634], [2.207666375692536, 4.89831450227951]]\n"
     ]
    }
   ],
   "source": [
    "a = newpoint()\n",
    "print(a[0])\n"
   ]
  },
  {
   "cell_type": "markdown",
   "metadata": {},
   "source": [
    "<hr>"
   ]
  },
  {
   "cell_type": "markdown",
   "metadata": {},
   "source": [
    "## Problem 3: For each artificially resampled data set, calculate their own slope and intercept "
   ]
  },
  {
   "cell_type": "code",
   "execution_count": 6,
   "metadata": {},
   "outputs": [],
   "source": [
    " def slopeintcalc(datasets):\n",
    "    '''\n",
    "    This function calculates the slope and intercept for each dataset\n",
    "    and appends slope and intercept of each dataset to a list that \n",
    "    is returned\n",
    "\n",
    "    '''\n",
    "    a = np.array(datasets)\n",
    "    slopelist = [] \n",
    "    interceptlist = []\n",
    "    for n in range(1000):\n",
    "        slope, intercept, r_value, p_value, std_err = stats.linregress(a[n][:,0],a[n][:,1])\n",
    "        slopelist.append(slope)\n",
    "        interceptlist.append(intercept)\n",
    "    return slopelist, interceptlist"
   ]
  },
  {
   "cell_type": "code",
   "execution_count": 7,
   "metadata": {},
   "outputs": [
    {
     "name": "stdout",
     "output_type": "stream",
     "text": [
      "1.5108701787584424 4.25389822385045\n"
     ]
    }
   ],
   "source": [
    "slope, intercept = slopeintcalc(a)\n",
    "print(slope[0],intercept[0])"
   ]
  },
  {
   "cell_type": "markdown",
   "metadata": {},
   "source": [
    "<hr>"
   ]
  },
  {
   "cell_type": "markdown",
   "metadata": {},
   "source": [
    "## Problem 4: Once the loop is finished, provide as output: $\\overline{a} \\pm \\sigma_a$ and $\\overline{b} \\pm \\sigma_b$ using the mean and standard deviation of the $(a_k,b_k)_{k=1}^M$ values obtained respectively"
   ]
  },
  {
   "cell_type": "code",
   "execution_count": 8,
   "metadata": {},
   "outputs": [],
   "source": [
    "def meanstdcalc(datasets):\n",
    "    '''\n",
    "    Function that takes the created dataset from problem 1, calculates the mean, standard deviation\n",
    "    and outputs a list of the asked values for all datasets \n",
    "    '''\n",
    "    a = np.array(datasets)\n",
    "    meanlist = []\n",
    "    stdlist = []\n",
    "    output = []\n",
    "    for n in range(1000):\n",
    "        x_mean, x_std = np.mean(a[n][:,0]), np.std(a[n][:,0])\n",
    "        y_mean, y_std = np.mean(a[n][:,1]), np.mean(a[n][:,0])\n",
    "        meanlist.append([x_mean,y_mean])\n",
    "        stdlist.append([x_std,y_std])\n",
    "        output.append([x_mean+x_std,y_mean+y_std])\n",
    "    return meanlist, stdlist ,output"
   ]
  },
  {
   "cell_type": "code",
   "execution_count": 9,
   "metadata": {},
   "outputs": [
    {
     "name": "stdout",
     "output_type": "stream",
     "text": [
      "[3.6388056892587595, 11.311352208509616]\n"
     ]
    }
   ],
   "source": [
    "mean, std, output = meanstdcalc(a)\n",
    "print(output[0])"
   ]
  },
  {
   "cell_type": "markdown",
   "metadata": {},
   "source": [
    "<hr>"
   ]
  },
  {
   "cell_type": "markdown",
   "metadata": {},
   "source": [
    "## Problem 5: plot your experimental datapoints with errorbars with the result of this linear regression"
   ]
  },
  {
   "cell_type": "code",
   "execution_count": 10,
   "metadata": {},
   "outputs": [],
   "source": [
    "'''\n",
    "First we need to calculate the slope and intercept for the given datapoints\n",
    "'''\n",
    "l = np.array(fd['x'])\n",
    "m = np.array(fd['y'])\n",
    "points1 = []\n",
    "\n",
    "for n in range(10):\n",
    "    points1.append([l[n],m[n]])\n",
    "\n",
    "points1 = np.array(points1)\n",
    "\n",
    "slope, intercept, r_value, p_value, std_err = stats.linregress(points1[:,0],points1[:,1])"
   ]
  },
  {
   "cell_type": "code",
   "execution_count": 11,
   "metadata": {},
   "outputs": [
    {
     "data": {
      "image/png": "[encoded data removed]",
      "text/plain": [
       "<Figure size 432x288 with 1 Axes>"
      ]
     },
     "metadata": {
      "needs_background": "light"
     },
     "output_type": "display_data"
    }
   ],
   "source": [
    "#Plotting\n",
    "x = np.linspace(0,6)\n",
    "plt.errorbar(fd['x'],fd['y'],fd['$\\sigma_x$'],fd['$\\sigma_y$'], fmt='o', c = 'red')\n",
    "plt.plot(x,slope*x+intercept, color ='black')\n",
    "plt.grid(linestyle='dashed')\n",
    "plt.title('Graph of Data with their Error Bars')\n",
    "plt.show()"
   ]
  }
 ],
 "metadata": {
  "kernelspec": {
   "display_name": "Python 3",
   "language": "python",
   "name": "python3"
  },
  "language_info": {
   "codemirror_mode": {
    "name": "ipython",
    "version": 3
   },
   "file_extension": ".py",
   "mimetype": "text/x-python",
   "name": "python",
   "nbconvert_exporter": "python",
   "pygments_lexer": "ipython3",
   "version": "3.6.8"
  }
 },
 "nbformat": 4,
 "nbformat_minor": 2
}
